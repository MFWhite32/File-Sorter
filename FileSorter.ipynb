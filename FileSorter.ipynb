{
 "cells": [
  {
   "cell_type": "code",
   "execution_count": 3,
   "id": "fc05148d-eb54-41a9-bf84-615e25161f9e",
   "metadata": {},
   "outputs": [
    {
     "ename": "FileNotFoundError",
     "evalue": "[WinError 3] The system cannot find the path specified: 'C:/Users/MarKi/Documents/FileOrganizer/'",
     "output_type": "error",
     "traceback": [
      "\u001b[1;31m---------------------------------------------------------------------------\u001b[0m",
      "\u001b[1;31mFileNotFoundError\u001b[0m                         Traceback (most recent call last)",
      "Cell \u001b[1;32mIn[3], line 5\u001b[0m\n\u001b[0;32m      1\u001b[0m \u001b[38;5;28;01mimport\u001b[39;00m \u001b[38;5;21;01mos\u001b[39;00m\u001b[38;5;241m,\u001b[39m \u001b[38;5;21;01mshutil\u001b[39;00m\n\u001b[0;32m      3\u001b[0m path \u001b[38;5;241m=\u001b[39m \u001b[38;5;124mr\u001b[39m\u001b[38;5;124m\"\u001b[39m\u001b[38;5;124mC:/Users/MarKi/Documents/FileOrganizer/\u001b[39m\u001b[38;5;124m\"\u001b[39m\n\u001b[1;32m----> 5\u001b[0m file_name \u001b[38;5;241m=\u001b[39m os\u001b[38;5;241m.\u001b[39mlistdir(path)\n\u001b[0;32m      7\u001b[0m folder_names \u001b[38;5;241m=\u001b[39m [\u001b[38;5;124m'\u001b[39m\u001b[38;5;124mExcel Files\u001b[39m\u001b[38;5;124m'\u001b[39m, \u001b[38;5;124m'\u001b[39m\u001b[38;5;124mImage Files\u001b[39m\u001b[38;5;124m'\u001b[39m, \u001b[38;5;124m'\u001b[39m\u001b[38;5;124mText Files\u001b[39m\u001b[38;5;124m'\u001b[39m]\n\u001b[0;32m      9\u001b[0m \u001b[38;5;28;01mfor\u001b[39;00m loop \u001b[38;5;129;01min\u001b[39;00m \u001b[38;5;28mrange\u001b[39m(\u001b[38;5;241m0\u001b[39m,\u001b[38;5;241m3\u001b[39m):\n",
      "\u001b[1;31mFileNotFoundError\u001b[0m: [WinError 3] The system cannot find the path specified: 'C:/Users/MarKi/Documents/FileOrganizer/'"
     ]
    }
   ],
   "source": [
    "import os, shutil\n",
    "\n",
    "path = r\"C:/Users/MarKi/Documents/FileOrganizer/\"\n",
    "\n",
    "file_name = os.listdir(path)\n",
    "\n",
    "folder_names = ['Excel Files', 'Image Files', 'Text Files']\n",
    "\n",
    "for loop in range(0,3):\n",
    "    if not os.path.exists(path + folder_names[loop]):\n",
    "        os.makedirs(path + folder_names[loop])\n",
    "\n",
    "moved = False\n",
    "\n",
    "for file in file_name:\n",
    "    if file.endswith(\".xlsx\"):\n",
    "        dest = path + \"Excel Files/\" + file\n",
    "        if not os.path.exists(dest):\n",
    "            shutil.move(path + file, dest)\n",
    "            moved = True\n",
    "\n",
    "    elif file.endswith(\".jpg\"):\n",
    "        dest = path + \"Image Files/\" + file\n",
    "        if not os.path.exists(dest):\n",
    "            shutil.move(path + file, dest)\n",
    "            moved = True\n",
    "\n",
    "    elif file.endswith(\".docx\"):\n",
    "        dest = path + \"Text Files/\" + file\n",
    "        if not os.path.exists(dest):\n",
    "            shutil.move(path + file, dest)\n",
    "            moved = True\n",
    "\n",
    "if not moved:\n",
    "    print(\"No files to move.\")"
   ]
  },
  {
   "cell_type": "code",
   "execution_count": null,
   "id": "0c78dfcb-a427-4119-8e42-dc07f169e19f",
   "metadata": {},
   "outputs": [],
   "source": []
  }
 ],
 "metadata": {
  "kernelspec": {
   "display_name": "Python [conda env:base] *",
   "language": "python",
   "name": "conda-base-py"
  },
  "language_info": {
   "codemirror_mode": {
    "name": "ipython",
    "version": 3
   },
   "file_extension": ".py",
   "mimetype": "text/x-python",
   "name": "python",
   "nbconvert_exporter": "python",
   "pygments_lexer": "ipython3",
   "version": "3.12.7"
  }
 },
 "nbformat": 4,
 "nbformat_minor": 5
}
