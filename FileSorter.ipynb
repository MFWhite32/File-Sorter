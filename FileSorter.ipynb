{
 "cells": [
  {
   "cell_type": "code",
   "execution_count": null,
   "id": "fc05148d-eb54-41a9-bf84-615e25161f9e",
   "metadata": {},
   "outputs": [],
   "source": [
    "import os, shutil\n",
    "\n",
    "path = r\"C:/Users/MarKi/Documents/FileOrganizer/\"\n",
    "\n",
    "file_name = os.listdir(path)\n",
    "\n",
    "folder_names = ['Excel Files', 'Image Files', 'Text Files']\n",
    "\n",
    "for loop in range(0,3):\n",
    "    if not os.path.exists(path + folder_names[loop]):\n",
    "        os.makedirs(path + folder_names[loop])\n",
    "\n",
    "moved = False\n",
    "\n",
    "for file in file_name:\n",
    "    if file.endswith(\".xlsx\"):\n",
    "        dest = path + \"Excel Files/\" + file\n",
    "        if not os.path.exists(dest):\n",
    "            shutil.move(path + file, dest)\n",
    "            moved = True\n",
    "\n",
    "    elif file.endswith(\".jpg\"):\n",
    "        dest = path + \"Image Files/\" + file\n",
    "        if not os.path.exists(dest):\n",
    "            shutil.move(path + file, dest)\n",
    "            moved = True\n",
    "\n",
    "    elif file.endswith(\".docx\"):\n",
    "        dest = path + \"Text Files/\" + file\n",
    "        if not os.path.exists(dest):\n",
    "            shutil.move(path + file, dest)\n",
    "            moved = True\n",
    "\n",
    "if not moved:\n",
    "    print(\"No files to move.\")"
   ]
  }
 ],
 "metadata": {
  "kernelspec": {
   "display_name": "Python [conda env:base] *",
   "language": "python",
   "name": "conda-base-py"
  },
  "language_info": {
   "codemirror_mode": {
    "name": "ipython",
    "version": 3
   },
   "file_extension": ".py",
   "mimetype": "text/x-python",
   "name": "python",
   "nbconvert_exporter": "python",
   "pygments_lexer": "ipython3",
   "version": "3.12.7"
  }
 },
 "nbformat": 4,
 "nbformat_minor": 5
}
